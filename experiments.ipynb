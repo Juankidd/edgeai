{
  "nbformat": 4,
  "nbformat_minor": 0,
  "metadata": {
    "colab": {
      "provenance": []
    },
    "kernelspec": {
      "name": "python3",
      "display_name": "Python 3"
    },
    "language_info": {
      "name": "python"
    }
  },
  "cells": [
    {
      "cell_type": "code",
      "execution_count": null,
      "metadata": {
        "id": "ta3cSY4Jmcnu"
      },
      "outputs": [],
      "source": [
        "import pandas as pd\n",
        "import numpy as np\n",
        "from sklearn.model_selection import train_test_split\n",
        "from sklearn.preprocessing import StandardScaler\n",
        "from tensorflow import keras\n",
        "import matplotlib.pyplot as plt\n",
        "\n",
        "\n",
        "\n",
        "data = {\n",
        "    'temperatura': Temperatura_IoT,\n",
        "    'humedad': Humedad_IoT,\n",
        "    'hora': hora,\n",
        "    'dia': dia,\n",
        "    'presencia': presencial,\n",
        "    'radiacion': radiacion\n",
        "}\n",
        "df = pd.DataFrame(data)\n",
        "df['consumo'] = (df['temperatura']*0.02 + df['humedad']*0.01 +\n",
        "                 df['presencia']*0.3 + df['radiacion']*0.0005 +\n",
        "                 np.random.normal(0, 0.05, n))\n",
        "\n",
        "# Entrenamiento\n",
        "X = df.drop(columns=['consumo'])\n",
        "y = df['consumo']\n",
        "X_train, X_test, y_train, y_test = train_test_split(X, y, test_size=0.2)\n",
        "scaler = StandardScaler()\n",
        "X_train_scaled = scaler.fit_transform(X_train)\n",
        "X_test_scaled = scaler.transform(X_test)\n",
        "\n",
        "model = keras.Sequential([\n",
        "    keras.layers.Dense(16, activation='relu', input_shape=(6,)),\n",
        "    keras.layers.Dense(8, activation='relu'),\n",
        "    keras.layers.Dense(1)\n",
        "])\n",
        "\n",
        "model.compile(optimizer='adam', loss='mse')\n",
        "history = model.fit(X_train_scaled, y_train, epochs=50, validation_split=0.1)\n",
        "\n",
        "# Graficamos la pérdida\n",
        "plt.plot(history.history['loss'], label='Entrenamiento')\n",
        "plt.plot(history.history['val_loss'], label='Validación')\n",
        "plt.legend()\n",
        "plt.title(\"Pérdida durante el entrenamiento\")\n",
        "plt.show()\n"
      ]
    },
    {
      "cell_type": "code",
      "source": [
        "import tensorflow as tf\n",
        "\n",
        "converter = tf.lite.TFLiteConverter.from_keras_model(model)\n",
        "tflite_model = converter.convert()\n",
        "\n",
        "with open(\"modelo_consumo.tflite\", \"wb\") as f:\n",
        "    f.write(tflite_model)\n"
      ],
      "metadata": {
        "id": "WSEVO2D2m_dH"
      },
      "execution_count": null,
      "outputs": []
    }
  ]
}